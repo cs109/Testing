{
 "cells": [
  {
   "cell_type": "markdown",
   "metadata": {},
   "source": [
    "###Modules and git scripts"
   ]
  },
  {
   "cell_type": "code",
   "execution_count": 35,
   "metadata": {
    "collapsed": true
   },
   "outputs": [],
   "source": [
    "import pandas as pd\n",
    "import numpy as np\n",
    "import matplotlib.pyplot as plt"
   ]
  },
  {
   "cell_type": "code",
   "execution_count": 40,
   "metadata": {
    "collapsed": true
   },
   "outputs": [
    {
     "name": "stdout",
     "output_type": "stream",
     "text": [
      "[master 47939f4] practicing python and git commits\n",
      " 2 files changed, 261 insertions(+)\n",
      " create mode 100644 .ipynb_checkpoints/Pandas in ten mins-checkpoint.ipynb\n",
      " create mode 100644 Pandas in ten mins.ipynb\n",
      "On branch master\n",
      "Your branch is ahead of 'origin/master' by 1 commit.\n",
      "  (use \"git push\" to publish your local commits)\n",
      "nothing to commit, working directory clean\n"
     ]
    }
   ],
   "source": [
    "%%bash\n",
    "git add .\n",
    "git commit -m \"practicing python and git commits\"\n",
    "git status"
   ]
  },
  {
   "cell_type": "code",
   "execution_count": 42,
   "metadata": {
    "collapsed": true
   },
   "outputs": [
    {
     "name": "stderr",
     "output_type": "stream",
     "text": [
      "Everything up-to-date\n"
     ]
    }
   ],
   "source": [
    "%%bash\n",
    "git push"
   ]
  },
  {
   "cell_type": "code",
   "execution_count": 44,
   "metadata": {
    "collapsed": false
   },
   "outputs": [],
   "source": [
    "%%bash\n",
    "git branch PandaPractice"
   ]
  },
  {
   "cell_type": "code",
   "execution_count": 47,
   "metadata": {
    "collapsed": false
   },
   "outputs": [
    {
     "name": "stdout",
     "output_type": "stream",
     "text": [
      "M\tPandas in ten mins.ipynb\n"
     ]
    },
    {
     "name": "stderr",
     "output_type": "stream",
     "text": [
      "Switched to branch 'PandaPractice'\n"
     ]
    }
   ],
   "source": [
    "%%bash\n",
    "git checkout PandaPractice"
   ]
  },
  {
   "cell_type": "code",
   "execution_count": null,
   "metadata": {
    "collapsed": true
   },
   "outputs": [],
   "source": []
  },
  {
   "cell_type": "code",
   "execution_count": null,
   "metadata": {
    "collapsed": true
   },
   "outputs": [],
   "source": []
  },
  {
   "cell_type": "code",
   "execution_count": null,
   "metadata": {
    "collapsed": true
   },
   "outputs": [],
   "source": []
  },
  {
   "cell_type": "markdown",
   "metadata": {},
   "source": [
    "###Code Practice"
   ]
  },
  {
   "cell_type": "code",
   "execution_count": 21,
   "metadata": {
    "collapsed": false
   },
   "outputs": [
    {
     "data": {
      "text/html": [
       "<div>\n",
       "<table border=\"1\" class=\"dataframe\">\n",
       "  <thead>\n",
       "    <tr style=\"text-align: right;\">\n",
       "      <th></th>\n",
       "      <th>A</th>\n",
       "      <th>B</th>\n",
       "      <th>C</th>\n",
       "      <th>D</th>\n",
       "      <th>E</th>\n",
       "    </tr>\n",
       "  </thead>\n",
       "  <tbody>\n",
       "    <tr>\n",
       "      <th>0</th>\n",
       "      <td>-0.212862</td>\n",
       "      <td>-1.011194</td>\n",
       "      <td>-1.138199</td>\n",
       "      <td>-0.932804</td>\n",
       "      <td>-0.279693</td>\n",
       "    </tr>\n",
       "    <tr>\n",
       "      <th>1</th>\n",
       "      <td>0.194660</td>\n",
       "      <td>0.299546</td>\n",
       "      <td>-0.881936</td>\n",
       "      <td>1.489913</td>\n",
       "      <td>1.390468</td>\n",
       "    </tr>\n",
       "    <tr>\n",
       "      <th>2</th>\n",
       "      <td>0.572256</td>\n",
       "      <td>-0.169098</td>\n",
       "      <td>1.397204</td>\n",
       "      <td>1.249620</td>\n",
       "      <td>-1.191226</td>\n",
       "    </tr>\n",
       "    <tr>\n",
       "      <th>3</th>\n",
       "      <td>1.465381</td>\n",
       "      <td>0.433794</td>\n",
       "      <td>1.531289</td>\n",
       "      <td>-2.227304</td>\n",
       "      <td>0.254160</td>\n",
       "    </tr>\n",
       "    <tr>\n",
       "      <th>4</th>\n",
       "      <td>1.087839</td>\n",
       "      <td>-0.222498</td>\n",
       "      <td>0.063400</td>\n",
       "      <td>1.210815</td>\n",
       "      <td>-1.343562</td>\n",
       "    </tr>\n",
       "    <tr>\n",
       "      <th>5</th>\n",
       "      <td>1.824270</td>\n",
       "      <td>0.647035</td>\n",
       "      <td>-1.395918</td>\n",
       "      <td>0.102228</td>\n",
       "      <td>-1.226248</td>\n",
       "    </tr>\n",
       "    <tr>\n",
       "      <th>6</th>\n",
       "      <td>0.452942</td>\n",
       "      <td>-0.251262</td>\n",
       "      <td>-0.407154</td>\n",
       "      <td>1.150705</td>\n",
       "      <td>0.653690</td>\n",
       "    </tr>\n",
       "    <tr>\n",
       "      <th>7</th>\n",
       "      <td>1.966258</td>\n",
       "      <td>-0.838877</td>\n",
       "      <td>0.622679</td>\n",
       "      <td>-0.937318</td>\n",
       "      <td>-0.241825</td>\n",
       "    </tr>\n",
       "    <tr>\n",
       "      <th>8</th>\n",
       "      <td>1.088565</td>\n",
       "      <td>0.795834</td>\n",
       "      <td>0.332464</td>\n",
       "      <td>0.738309</td>\n",
       "      <td>-0.001361</td>\n",
       "    </tr>\n",
       "    <tr>\n",
       "      <th>9</th>\n",
       "      <td>0.350660</td>\n",
       "      <td>-1.868643</td>\n",
       "      <td>1.152331</td>\n",
       "      <td>0.641795</td>\n",
       "      <td>-0.872482</td>\n",
       "    </tr>\n",
       "  </tbody>\n",
       "</table>\n",
       "</div>"
      ],
      "text/plain": [
       "          A         B         C         D         E\n",
       "0 -0.212862 -1.011194 -1.138199 -0.932804 -0.279693\n",
       "1  0.194660  0.299546 -0.881936  1.489913  1.390468\n",
       "2  0.572256 -0.169098  1.397204  1.249620 -1.191226\n",
       "3  1.465381  0.433794  1.531289 -2.227304  0.254160\n",
       "4  1.087839 -0.222498  0.063400  1.210815 -1.343562\n",
       "5  1.824270  0.647035 -1.395918  0.102228 -1.226248\n",
       "6  0.452942 -0.251262 -0.407154  1.150705  0.653690\n",
       "7  1.966258 -0.838877  0.622679 -0.937318 -0.241825\n",
       "8  1.088565  0.795834  0.332464  0.738309 -0.001361\n",
       "9  0.350660 -1.868643  1.152331  0.641795 -0.872482"
      ]
     },
     "execution_count": 21,
     "metadata": {},
     "output_type": "execute_result"
    }
   ],
   "source": [
    "df = pd.DataFrame(np.random.randn(10,5), index=list(range(10)), columns = list(\"ABCDE\"))\n",
    "df"
   ]
  },
  {
   "cell_type": "code",
   "execution_count": 32,
   "metadata": {
    "collapsed": false
   },
   "outputs": [
    {
     "data": {
      "text/html": [
       "<div>\n",
       "<table border=\"1\" class=\"dataframe\">\n",
       "  <thead>\n",
       "    <tr style=\"text-align: right;\">\n",
       "      <th></th>\n",
       "      <th>A</th>\n",
       "      <th>B</th>\n",
       "      <th>C</th>\n",
       "      <th>D</th>\n",
       "      <th>E</th>\n",
       "    </tr>\n",
       "  </thead>\n",
       "  <tbody>\n",
       "    <tr>\n",
       "      <th>2</th>\n",
       "      <td>0.572256</td>\n",
       "      <td>-0.169098</td>\n",
       "      <td>1.397204</td>\n",
       "      <td>1.24962</td>\n",
       "      <td>-1.191226</td>\n",
       "    </tr>\n",
       "  </tbody>\n",
       "</table>\n",
       "</div>"
      ],
      "text/plain": [
       "          A         B         C        D         E\n",
       "2  0.572256 -0.169098  1.397204  1.24962 -1.191226"
      ]
     },
     "execution_count": 32,
     "metadata": {},
     "output_type": "execute_result"
    }
   ],
   "source": [
    "df[:3]\n",
    "df[\"A\"]\n",
    "df[2:3]"
   ]
  },
  {
   "cell_type": "code",
   "execution_count": null,
   "metadata": {
    "collapsed": true
   },
   "outputs": [],
   "source": []
  }
 ],
 "metadata": {
  "kernelspec": {
   "display_name": "Python 2",
   "language": "python",
   "name": "python2"
  },
  "language_info": {
   "codemirror_mode": {
    "name": "ipython",
    "version": 2
   },
   "file_extension": ".py",
   "mimetype": "text/x-python",
   "name": "python",
   "nbconvert_exporter": "python",
   "pygments_lexer": "ipython2",
   "version": "2.7.10"
  }
 },
 "nbformat": 4,
 "nbformat_minor": 0
}
